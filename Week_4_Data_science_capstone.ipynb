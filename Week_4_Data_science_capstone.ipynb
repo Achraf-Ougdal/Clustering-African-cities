{
 "cells": [
  {
   "cell_type": "markdown",
   "metadata": {},
   "source": [
    "---"
   ]
  },
  {
   "cell_type": "markdown",
   "metadata": {},
   "source": [
    "# Final Assignment of the 4th Week of the Applied Data Science Capstone Project"
   ]
  },
  {
   "cell_type": "markdown",
   "metadata": {},
   "source": [
    "#### By : Achraf Ougdal"
   ]
  },
  {
   "cell_type": "markdown",
   "metadata": {},
   "source": [
    "---"
   ]
  },
  {
   "cell_type": "markdown",
   "metadata": {},
   "source": [
    "This first part of the project is part of the IBM's Data Science Professional Certificate's Capstone Project.\n",
    "In this part, we will have the opportunity to be as creative as we want and come up with an idea to leverage the Foursquare location data to explore or compare neighborhoods or cities of our choice or to come up with a problem that we can use the Foursquare location data to solve. "
   ]
  },
  {
   "cell_type": "markdown",
   "metadata": {},
   "source": [
    "---"
   ]
  },
  {
   "cell_type": "markdown",
   "metadata": {},
   "source": [
    "## 1. Introduction"
   ]
  },
  {
   "cell_type": "markdown",
   "metadata": {},
   "source": [
    " - #### **Background**"
   ]
  },
  {
   "cell_type": "markdown",
   "metadata": {},
   "source": [
    "Africa is one of the most largest continents in the world. Despites of being one of the poorest continents of the world, it is still the most unique of them all. Whenever Africa is mentioned,  most people think of roaming animals and jeep safaris. Whilst Africa has much more to offer than animals, the beauty that nature has bestowed on this continent cannot be overlooked. The animal inhabitants of Africa are amongst the most varied and beautiful in the world. \n",
    "Africa's beauty goes beyond this, its diversity cultural diversity is like pieces of art, where each piece is totally different than the others, and together they form a one big beautiful piece art.\n",
    "\n",
    "Here are some pictures that show the beauty of Africa.\n",
    "\n",
    "\n",
    "![](africa-main.jpg)\n",
    "![](Agadir_Morocco.jpg)\n",
    "![](voctoria-falls.jpg)"
   ]
  },
  {
   "cell_type": "markdown",
   "metadata": {},
   "source": [
    " - #### **Problem**"
   ]
  },
  {
   "cell_type": "markdown",
   "metadata": {},
   "source": [
    "The rich diversity of Africa never fails of amaze me. I also discovered that Africa is one of the most popular summer vacation destination.\n",
    "\n",
    "I personnally have a lot of collegues that came from different countries Ivory Coast, Senegal, Burkina Faso and many more. The way they talk and act towards different situation and their style of clothing made me once wonder: **\"having all this diversity, can we find any similar african cities ?** in other words, **Are there any similar sities in different countries and places all over africa ?**\n",
    "\n",
    "This project was developed to answer this question.\n",
    "\n",
    "The problem is to cluster more than 1000 cities in Africa on their location, population, density, surface, built-up area and their popular avenues. Then we will look at each cluster to find out which cluster offers most diverse characteristics so that we could choose a city of that cluster as our future summer vacation destination."
   ]
  },
  {
   "cell_type": "markdown",
   "metadata": {},
   "source": [
    " - #### **Interest**"
   ]
  },
  {
   "cell_type": "markdown",
   "metadata": {},
   "source": [
    "This project is develop to help people that looks for african cities that offer most diverse characteristics to find the best destination to travel to and enjoy every moment of their journey."
   ]
  },
  {
   "cell_type": "markdown",
   "metadata": {},
   "source": [
    "### 2. Data acquisition and how it will be used to solve the problem"
   ]
  },
  {
   "cell_type": "markdown",
   "metadata": {},
   "source": [
    " - #### **Data sources**"
   ]
  },
  {
   "cell_type": "markdown",
   "metadata": {},
   "source": [
    "To the address the problem described above, we need a dataset that will contain african cities with the following information :\n",
    "\n",
    "- Name and country\n",
    "- Coordinates : latitude, longitude and latitude\n",
    "- Population and density\n",
    "- Surface and built-up area\n",
    "- Venues across each of these cities.\n",
    "\n",
    "So, in order to prepare these information we need data from different sources. mainly, these three:\n",
    "\n",
    "- The name of the cities, their respective country code (ISO3), coordinates, population, density, surface and built-up area from the agglomeration dataset from  https://africapolis.org/data. It offers an Excel Dataset that we will use for this project. The given dataset contains data about more than 9000 cities all over Africa, for this project, and for the sake of simplicity, we will only use a portion the this dataset (almost 100 cities).\n",
    "\n",
    "- Since the agglomeration dataset contains only the respective country code of each city in Africa (Example : MAR for Morocco), and in order to find the full name of each country, we will use the country data from https://africapolis.org/data and merge the two datasets in order to have the full country name of each city in africa.\n",
    "\n",
    "- The data about 100 venues within a 10 km radius of each city from **FourSquare API**"
   ]
  },
  {
   "cell_type": "markdown",
   "metadata": {},
   "source": [
    " - #### **Data Cleaning Process**"
   ]
  },
  {
   "cell_type": "markdown",
   "metadata": {},
   "source": [
    "For Data Cleaning, we will use the following process : \n",
    "\n",
    "- Remove any duplicate or irrelevant observations\n",
    "- Remove any irrelevent or unnecessary columns.\n",
    "- delete any observations with missing values.\n",
    "- Handle formats\n",
    "- Rename columns if needed\n",
    "- Scaling\n",
    "- Normalization\n"
   ]
  },
  {
   "cell_type": "markdown",
   "metadata": {},
   "source": [
    " - #### **Feature selection**"
   ]
  },
  {
   "cell_type": "markdown",
   "metadata": {},
   "source": [
    "These are the features that we will be based on to cluster cities of Africa\n",
    "\n",
    "- City latitude\n",
    "- City longitude\n",
    "- City altitude\n",
    "- Country name\n",
    "- Venue category\n",
    "- Population\n",
    "- Density\n",
    "- Surface\n",
    "- Built-up Area"
   ]
  },
  {
   "cell_type": "markdown",
   "metadata": {},
   "source": [
    "---"
   ]
  },
  {
   "cell_type": "markdown",
   "metadata": {},
   "source": [
    "## This concludes the assignment of this week. In the next will, we will discuss more about the full work, and the observation and results that we have found during the process of clustering.\n",
    "\n",
    "#### Thank you for your time and have a nice day."
   ]
  }
 ],
 "metadata": {
  "kernelspec": {
   "display_name": "Python 3",
   "language": "python",
   "name": "python3"
  },
  "language_info": {
   "codemirror_mode": {
    "name": "ipython",
    "version": 3
   },
   "file_extension": ".py",
   "mimetype": "text/x-python",
   "name": "python",
   "nbconvert_exporter": "python",
   "pygments_lexer": "ipython3",
   "version": "3.7.4"
  }
 },
 "nbformat": 4,
 "nbformat_minor": 4
}
